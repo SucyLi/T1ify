{
 "cells": [
  {
   "cell_type": "code",
   "execution_count": 1,
   "metadata": {},
   "outputs": [],
   "source": [
    "### do our imports\n",
    "import os,sys\n",
    "import matplotlib.pyplot as plt\n",
    "import matplotlib.pyplot as plt\n",
    "import matplotlib.gridspec as gridspec\n",
    "import numpy as np\n",
    "import random\n",
    "import nibabel as nib\n",
    "from pathlib import Path\n",
    "import torch\n",
    "from torch.utils.data import Dataset, DataLoader\n",
    "from torchvision import transforms, utils\n",
    "%matplotlib inline"
   ]
  },
  {
   "cell_type": "code",
   "execution_count": 2,
   "metadata": {
    "collapsed": true
   },
   "outputs": [],
   "source": [
    "#### define nifti volume data loader class\n",
    "class NiftisLoader(Dataset):\n",
    "    \"\"\"Load a list of registered T1 and T2 volumes\"\"\"\n",
    "    def __init__(self,nifti1,nifti2,transform=None):\n",
    "        \"\"\"\n",
    "        Args:\n",
    "            nifti1: list of nifti images for first modality\n",
    "            nifti2: list of nifti images for second modality\n",
    "            transform: Optional transform to be applied to sample\n",
    "        \"\"\"\n",
    "        ### define the variables from the input here\n",
    "        self.nifti1=[line.strip() for line in open(nifti1, 'r')]\n",
    "        self.nifti2=[line.strip() for line in open(nifti2, 'r')]\n",
    "        self.transform=transform\n",
    "\n",
    "    def __len__(self):\n",
    "        return len(self.nifti2)\n",
    "    \n",
    "    ### \n",
    "    def __getitem__(self, idx):\n",
    "        if torch.is_tensor(idx):\n",
    "            idx = idx.tolist()\n",
    "        \n",
    "        #### load the niftis\n",
    "        img1=nib.load(self.nifti1[idx]).get_data().astype(float)\n",
    "        img2=nib.load(self.nifti2[idx]).get_data().astype(float)\n",
    "\n",
    "        sample = {'nii1': img1, 'nii2': img2}\n",
    "        \n",
    "        if self.transform:\n",
    "            sample = self.transform(sample)\n",
    "\n",
    "        return sample\n",
    "        \n"
   ]
  },
  {
   "cell_type": "code",
   "execution_count": 3,
   "metadata": {},
   "outputs": [
    {
     "name": "stdout",
     "output_type": "stream",
     "text": [
      "CPU times: user 824 ms, sys: 481 ms, total: 1.31 s\n",
      "Wall time: 2.63 s\n"
     ]
    }
   ],
   "source": [
    "nifti_dataset = NiftisLoader(nifti1='T1s.txt',nifti2='T2s.txt')\n",
    "nifti_dataset[1]['nii1'].shape"
   ]
  },
  {
   "cell_type": "code",
   "execution_count": null,
   "metadata": {},
   "outputs": [],
   "source": []
  },
  {
   "cell_type": "code",
   "execution_count": 4,
   "metadata": {
    "scrolled": true
   },
   "outputs": [
    {
     "name": "stdout",
     "output_type": "stream",
     "text": [
      "CPU times: user 1min 28s, sys: 44.8 s, total: 2min 13s\n",
      "Wall time: 3min 4s\n"
     ]
    }
   ],
   "source": [
    "%%time\n",
    "############# prep list of slices as alternate input into dataloader\n",
    "\n",
    "def prep_data_slices(nifti1,nifti2,slices):\n",
    "        \n",
    "        nifti1=[line.strip() for line in open(nifti1, 'r')]\n",
    "        nifti2=[line.strip() for line in open(nifti2, 'r')]\n",
    "        img_s1=[]\n",
    "        img_s2=[]\n",
    "        ### loop over input file to create list   \n",
    "        for i in range(0,len(nifti2)):\n",
    "            img1=nib.load(nifti1[i]).get_data().astype(float)\n",
    "            img2=nib.load(nifti2[i]).get_data().astype(float)\n",
    "        #### get dimension limit:\n",
    "            dim_lim=min(img1.shape)\n",
    "            if slices >= dim_lim:\n",
    "                slices=dim_lim-30\n",
    "            slidx=random.sample(range(dim_lim),slices)\n",
    "            slimg1=[]\n",
    "            slimg2=[]\n",
    "            for j in range(len(slidx)):\n",
    "                slimg1.append(img1[slidx[j],:,:])\n",
    "                slimg1.append(img1[:,slidx[j],:])\n",
    "                slimg1.append(img1[:,:,slidx[j]])\n",
    "                slimg2.append(img2[slidx[j],:,:])\n",
    "                slimg2.append(img2[:,slidx[j],:])\n",
    "                slimg2.append(img2[:,:,slidx[j]])\n",
    "            img_s1.append(slimg1)\n",
    "            img_s2.append(slimg2)\n",
    "        T1_slc = [img for arr in img_s1 for img in arr]\n",
    "        T2_slc = [img for arr in img_s2 for img in arr]\n",
    "        return T1_slc,T2_slc\n",
    "\n",
    "T1_slc,T2_slc= prep_data_slices('T1s.txt','T2s.txt',slices=10)\n",
    "    "
   ]
  },
  {
   "cell_type": "code",
   "execution_count": 5,
   "metadata": {},
   "outputs": [],
   "source": [
    "###### list of 2d numpy arrays of T1 and T2. \n",
    "##### \n",
    "class SliceLoader(Dataset):\n",
    "    \"\"\"Load a list of registered T1 and T2 volumes\"\"\"\n",
    "    def __init__(self,nifti1,nifti2,slices=None,transform=None):\n",
    "        \"\"\"\n",
    "        Args:\n",
    "            nifti1: list of numpy array T1 slices\n",
    "            nifti2: list of numpy array T2 images\n",
    "            transform: Optional transform to be applied to sample\n",
    "        \"\"\"\n",
    "        ### define the variables from the input here\n",
    "        self.nifti1=nifti1\n",
    "        self.nifti2=nifti2\n",
    "        self.transform=transform\n",
    "        \n",
    "    def __len__(self):\n",
    "            return len(self.nifti2)\n",
    "    \n",
    "    ###\n",
    "    def __getitem__(self, idx):\n",
    "        if torch.is_tensor(idx):\n",
    "            idx = idx.tolist()\n",
    "            \n",
    "        #### load the niftis\n",
    "        img1=self.nifti1[idx]\n",
    "        img2=self.nifti2[idx]\n",
    "        \n",
    "        #### normalize niftis between 0 and 1\n",
    "        img1=img1/np.max(img1)\n",
    "        img2=img2/np.max(img2)\n",
    "    \n",
    "        ##### no slices will load nifti volume for traning\n",
    "        \n",
    "        sample = {'nii1': img1, 'nii2': img2}\n",
    "        return sample\n",
    "        \n",
    "\n"
   ]
  },
  {
   "cell_type": "code",
   "execution_count": 6,
   "metadata": {},
   "outputs": [
    {
     "name": "stdout",
     "output_type": "stream",
     "text": [
      "CPU times: user 15 µs, sys: 2 µs, total: 17 µs\n",
      "Wall time: 37.2 µs\n"
     ]
    }
   ],
   "source": [
    "%%time\n",
    "slice_dataset = SliceLoader(nifti1=T1_slc,nifti2=T2_slc)\n",
    "T1_slc=[],T2_slc=[] #clear memory"
   ]
  },
  {
   "cell_type": "code",
   "execution_count": 7,
   "metadata": {},
   "outputs": [
    {
     "data": {
      "text/plain": [
       "3300"
      ]
     },
     "execution_count": 7,
     "metadata": {},
     "output_type": "execute_result"
    }
   ],
   "source": [
    "len(slice_dataset)"
   ]
  },
  {
   "cell_type": "code",
   "execution_count": 8,
   "metadata": {},
   "outputs": [
    {
     "data": {
      "text/plain": [
       "<matplotlib.image.AxesImage at 0x9c66c6470>"
      ]
     },
     "execution_count": 8,
     "metadata": {},
     "output_type": "execute_result"
    },
    {
     "data": {
      "image/png": "[encoded data removed]",
      "text/plain": [
       "<Figure size 432x288 with 2 Axes>"
      ]
     },
     "metadata": {},
     "output_type": "display_data"
    }
   ],
   "source": [
    "plt.subplot(1,2,1)\n",
    "plt.imshow(slice_dataset[2500]['nii1'],cmap='Greys_r')\n",
    "plt.subplot(1,2,2)\n",
    "plt.imshow(slice_dataset[2500]['nii2'],cmap='Greys_r')"
   ]
  },
  {
   "cell_type": "code",
   "execution_count": null,
   "metadata": {},
   "outputs": [],
   "source": [
    "plt.subplot(1,2,1)\n",
    "plt.imshow(slice_dataset[1]['nii1'][20].transpose())\n",
    "plt.subplot(1,2,2)\n",
    "plt.imshow(slice_dataset[1]['nii2'][20].transpose())"
   ]
  }
 ],
 "metadata": {
  "kernelspec": {
   "display_name": "Python 3",
   "language": "python",
   "name": "python3"
  },
  "language_info": {
   "codemirror_mode": {
    "name": "ipython",
    "version": 3
   },
   "file_extension": ".py",
   "mimetype": "text/x-python",
   "name": "python",
   "nbconvert_exporter": "python",
   "pygments_lexer": "ipython3",
   "version": "3.6.1"
  }
 },
 "nbformat": 4,
 "nbformat_minor": 2
}
